{
  "nbformat": 4,
  "nbformat_minor": 0,
  "metadata": {
    "kernelspec": {
      "display_name": "Python 3",
      "language": "python",
      "name": "python3"
    },
    "language_info": {
      "codemirror_mode": {
        "name": "ipython",
        "version": 3
      },
      "file_extension": ".py",
      "mimetype": "text/x-python",
      "name": "python",
      "nbconvert_exporter": "python",
      "pygments_lexer": "ipython3",
      "version": "3.8.3"
    },
    "colab": {
      "name": "Lab 2.ipynb",
      "provenance": [],
      "collapsed_sections": []
    }
  },
  "cells": [
    {
      "cell_type": "code",
      "metadata": {
        "id": "dQBsbrpz8Qty",
        "colab_type": "code",
        "colab": {
          "base_uri": "https://localhost:8080/",
          "height": 145
        },
        "outputId": "9c9e7254-65aa-49a0-8fd3-8fed0a2af1cd"
      },
      "source": [
        "!git clone https://github.com/DiploDatos/IntroduccionAprendizajeAutomatico.git"
      ],
      "execution_count": null,
      "outputs": [
        {
          "output_type": "stream",
          "text": [
            "Cloning into 'IntroduccionAprendizajeAutomatico'...\n",
            "remote: Enumerating objects: 58, done.\u001b[K\n",
            "remote: Counting objects: 100% (58/58), done.\u001b[K\n",
            "remote: Compressing objects: 100% (46/46), done.\u001b[K\n",
            "remote: Total 145 (delta 28), reused 40 (delta 12), pack-reused 87\u001b[K\n",
            "Receiving objects: 100% (145/145), 611.70 KiB | 1.77 MiB/s, done.\n",
            "Resolving deltas: 100% (54/54), done.\n"
          ],
          "name": "stdout"
        }
      ]
    },
    {
      "cell_type": "markdown",
      "metadata": {
        "id": "Siy5fx1f7zWm",
        "colab_type": "text"
      },
      "source": [
        "# Laboratorio 2: Armado de un esquema de aprendizaje automático\n",
        "\n",
        "En el laboratorio final se espera que puedan poner en práctica los conocimientos adquiridos en el curso, trabajando con un conjunto de datos de clasificación.\n",
        "\n",
        "El objetivo es que se introduzcan en el desarrollo de un esquema para hacer tareas de aprendizaje automático: selección de un modelo, ajuste de hiperparámetros y evaluación.\n",
        "\n",
        "El conjunto de datos a utilizar está en `./data/loan_data.csv`. Si abren el archivo verán que al principio (las líneas que empiezan con `#`) describen el conjunto de datos y sus atributos (incluyendo el atributo de etiqueta o clase).\n",
        "\n",
        "Se espera que hagan uso de las herramientas vistas en el curso. Se espera que hagan uso especialmente de las herramientas brindadas por `scikit-learn`."
      ]
    },
    {
      "cell_type": "code",
      "metadata": {
        "id": "IIYkx3Dk7zWo",
        "colab_type": "code",
        "colab": {}
      },
      "source": [
        "import numpy as np\n",
        "import pandas as pd\n",
        "\n",
        "# TODO: Agregar las librerías que hagan falta\n",
        "from sklearn.model_selection import train_test_split"
      ],
      "execution_count": null,
      "outputs": []
    },
    {
      "cell_type": "markdown",
      "metadata": {
        "id": "yiG9GQ4T7zW2",
        "colab_type": "text"
      },
      "source": [
        "## Carga de datos y división en entrenamiento y evaluación\n",
        "\n",
        "La celda siguiente se encarga de la carga de datos (haciendo uso de pandas). Estos serán los que se trabajarán en el resto del laboratorio."
      ]
    },
    {
      "cell_type": "code",
      "metadata": {
        "id": "yZIQvKHY7zW3",
        "colab_type": "code",
        "colab": {}
      },
      "source": [
        "dataset = pd.read_csv(\"https://raw.githubusercontent.com/DiploDatos/IntroduccionAprendizajeAutomatico/master/data/loan_data.csv\", comment=\"#\")\n",
        "\n",
        "# División entre instancias y etiquetas\n",
        "X, y = dataset.iloc[:, 1:], dataset.TARGET # aca define a X como una matriz que incluye unicamente las variables explicativas\n",
        "                                           # y a y como una lista formada por las realizaciones de la variable dependiente \n",
        "                                           # (TARGET) para cada indice, osea para cada ejemplo\n",
        "# división entre entrenamiento y evaluación\n",
        "X_train, X_test, y_train, y_test = train_test_split(X, y, test_size=0.2, random_state=0)"
      ],
      "execution_count": null,
      "outputs": []
    },
    {
      "cell_type": "code",
      "metadata": {
        "id": "JJgLQEFp7zXC",
        "colab_type": "code",
        "colab": {
          "base_uri": "https://localhost:8080/",
          "height": 407
        },
        "outputId": "120403eb-e99b-4583-e966-2cd833a4cbdc"
      },
      "source": [
        "X # para ver cómo queda X"
      ],
      "execution_count": null,
      "outputs": [
        {
          "output_type": "execute_result",
          "data": {
            "text/html": [
              "<div>\n",
              "<style scoped>\n",
              "    .dataframe tbody tr th:only-of-type {\n",
              "        vertical-align: middle;\n",
              "    }\n",
              "\n",
              "    .dataframe tbody tr th {\n",
              "        vertical-align: top;\n",
              "    }\n",
              "\n",
              "    .dataframe thead th {\n",
              "        text-align: right;\n",
              "    }\n",
              "</style>\n",
              "<table border=\"1\" class=\"dataframe\">\n",
              "  <thead>\n",
              "    <tr style=\"text-align: right;\">\n",
              "      <th></th>\n",
              "      <th>LOAN</th>\n",
              "      <th>MORTDUE</th>\n",
              "      <th>VALUE</th>\n",
              "      <th>YOJ</th>\n",
              "      <th>DEROG</th>\n",
              "      <th>DELINQ</th>\n",
              "      <th>CLAGE</th>\n",
              "      <th>NINQ</th>\n",
              "      <th>CLNO</th>\n",
              "      <th>DEBTINC</th>\n",
              "    </tr>\n",
              "  </thead>\n",
              "  <tbody>\n",
              "    <tr>\n",
              "      <th>0</th>\n",
              "      <td>4700</td>\n",
              "      <td>88026.0</td>\n",
              "      <td>115506.0</td>\n",
              "      <td>6.0</td>\n",
              "      <td>0.0</td>\n",
              "      <td>0.0</td>\n",
              "      <td>182.248332</td>\n",
              "      <td>0.0</td>\n",
              "      <td>27.0</td>\n",
              "      <td>29.209023</td>\n",
              "    </tr>\n",
              "    <tr>\n",
              "      <th>1</th>\n",
              "      <td>19300</td>\n",
              "      <td>39926.0</td>\n",
              "      <td>101208.0</td>\n",
              "      <td>4.0</td>\n",
              "      <td>0.0</td>\n",
              "      <td>0.0</td>\n",
              "      <td>140.051638</td>\n",
              "      <td>0.0</td>\n",
              "      <td>14.0</td>\n",
              "      <td>31.545694</td>\n",
              "    </tr>\n",
              "    <tr>\n",
              "      <th>2</th>\n",
              "      <td>5700</td>\n",
              "      <td>71556.0</td>\n",
              "      <td>79538.0</td>\n",
              "      <td>2.0</td>\n",
              "      <td>0.0</td>\n",
              "      <td>0.0</td>\n",
              "      <td>92.643085</td>\n",
              "      <td>0.0</td>\n",
              "      <td>15.0</td>\n",
              "      <td>41.210012</td>\n",
              "    </tr>\n",
              "    <tr>\n",
              "      <th>3</th>\n",
              "      <td>13000</td>\n",
              "      <td>44875.0</td>\n",
              "      <td>57713.0</td>\n",
              "      <td>0.0</td>\n",
              "      <td>1.0</td>\n",
              "      <td>0.0</td>\n",
              "      <td>184.990324</td>\n",
              "      <td>1.0</td>\n",
              "      <td>12.0</td>\n",
              "      <td>28.602076</td>\n",
              "    </tr>\n",
              "    <tr>\n",
              "      <th>4</th>\n",
              "      <td>19300</td>\n",
              "      <td>72752.0</td>\n",
              "      <td>106084.0</td>\n",
              "      <td>11.0</td>\n",
              "      <td>0.0</td>\n",
              "      <td>0.0</td>\n",
              "      <td>193.707100</td>\n",
              "      <td>1.0</td>\n",
              "      <td>13.0</td>\n",
              "      <td>30.686106</td>\n",
              "    </tr>\n",
              "    <tr>\n",
              "      <th>...</th>\n",
              "      <td>...</td>\n",
              "      <td>...</td>\n",
              "      <td>...</td>\n",
              "      <td>...</td>\n",
              "      <td>...</td>\n",
              "      <td>...</td>\n",
              "      <td>...</td>\n",
              "      <td>...</td>\n",
              "      <td>...</td>\n",
              "      <td>...</td>\n",
              "    </tr>\n",
              "    <tr>\n",
              "      <th>1849</th>\n",
              "      <td>53400</td>\n",
              "      <td>228236.0</td>\n",
              "      <td>305514.0</td>\n",
              "      <td>6.0</td>\n",
              "      <td>0.0</td>\n",
              "      <td>0.0</td>\n",
              "      <td>11.148069</td>\n",
              "      <td>0.0</td>\n",
              "      <td>2.0</td>\n",
              "      <td>34.558417</td>\n",
              "    </tr>\n",
              "    <tr>\n",
              "      <th>1850</th>\n",
              "      <td>53600</td>\n",
              "      <td>235895.0</td>\n",
              "      <td>299772.0</td>\n",
              "      <td>5.0</td>\n",
              "      <td>0.0</td>\n",
              "      <td>0.0</td>\n",
              "      <td>112.748282</td>\n",
              "      <td>7.0</td>\n",
              "      <td>22.0</td>\n",
              "      <td>44.945929</td>\n",
              "    </tr>\n",
              "    <tr>\n",
              "      <th>1851</th>\n",
              "      <td>53600</td>\n",
              "      <td>208197.0</td>\n",
              "      <td>297280.0</td>\n",
              "      <td>4.0</td>\n",
              "      <td>1.0</td>\n",
              "      <td>1.0</td>\n",
              "      <td>160.485251</td>\n",
              "      <td>2.0</td>\n",
              "      <td>29.0</td>\n",
              "      <td>41.646731</td>\n",
              "    </tr>\n",
              "    <tr>\n",
              "      <th>1852</th>\n",
              "      <td>65500</td>\n",
              "      <td>205156.0</td>\n",
              "      <td>290239.0</td>\n",
              "      <td>2.0</td>\n",
              "      <td>0.0</td>\n",
              "      <td>0.0</td>\n",
              "      <td>98.808206</td>\n",
              "      <td>1.0</td>\n",
              "      <td>21.0</td>\n",
              "      <td>144.189001</td>\n",
              "    </tr>\n",
              "    <tr>\n",
              "      <th>1853</th>\n",
              "      <td>77400</td>\n",
              "      <td>87651.0</td>\n",
              "      <td>224630.0</td>\n",
              "      <td>9.0</td>\n",
              "      <td>0.0</td>\n",
              "      <td>2.0</td>\n",
              "      <td>73.469630</td>\n",
              "      <td>3.0</td>\n",
              "      <td>13.0</td>\n",
              "      <td>40.929793</td>\n",
              "    </tr>\n",
              "  </tbody>\n",
              "</table>\n",
              "<p>1854 rows × 10 columns</p>\n",
              "</div>"
            ],
            "text/plain": [
              "       LOAN   MORTDUE     VALUE   YOJ  ...       CLAGE  NINQ  CLNO     DEBTINC\n",
              "0      4700   88026.0  115506.0   6.0  ...  182.248332   0.0  27.0   29.209023\n",
              "1     19300   39926.0  101208.0   4.0  ...  140.051638   0.0  14.0   31.545694\n",
              "2      5700   71556.0   79538.0   2.0  ...   92.643085   0.0  15.0   41.210012\n",
              "3     13000   44875.0   57713.0   0.0  ...  184.990324   1.0  12.0   28.602076\n",
              "4     19300   72752.0  106084.0  11.0  ...  193.707100   1.0  13.0   30.686106\n",
              "...     ...       ...       ...   ...  ...         ...   ...   ...         ...\n",
              "1849  53400  228236.0  305514.0   6.0  ...   11.148069   0.0   2.0   34.558417\n",
              "1850  53600  235895.0  299772.0   5.0  ...  112.748282   7.0  22.0   44.945929\n",
              "1851  53600  208197.0  297280.0   4.0  ...  160.485251   2.0  29.0   41.646731\n",
              "1852  65500  205156.0  290239.0   2.0  ...   98.808206   1.0  21.0  144.189001\n",
              "1853  77400   87651.0  224630.0   9.0  ...   73.469630   3.0  13.0   40.929793\n",
              "\n",
              "[1854 rows x 10 columns]"
            ]
          },
          "metadata": {
            "tags": []
          },
          "execution_count": 10
        }
      ]
    },
    {
      "cell_type": "markdown",
      "metadata": {
        "id": "QZL-ZlX47zXa",
        "colab_type": "raw"
      },
      "source": [
        ""
      ]
    },
    {
      "cell_type": "markdown",
      "metadata": {
        "id": "bJ8eYoiC7zXb",
        "colab_type": "text"
      },
      "source": [
        "\n",
        "Documentación:\n",
        "\n",
        "- https://scikit-learn.org/stable/modules/generated/sklearn.model_selection.train_test_split.html"
      ]
    },
    {
      "cell_type": "markdown",
      "metadata": {
        "id": "rZLK4uE57zXc",
        "colab_type": "text"
      },
      "source": [
        "## Ejercicio 1: Descripción de los Datos y la Tarea\n",
        "\n",
        "Responder las siguientes preguntas:\n",
        "\n",
        "1. ¿De qué se trata el conjunto de datos?\n",
        "\n",
        "  El conjunto de datos en cuestión contiene información sobre personas que recientemente  aplicaron y recibieron una línea de crédito a través del modelo actual de otorgamiento de préstamos del banco. El objetivo del banco es utilizar esta información para automatizar la decisión de conceder o denegar una solicitud de préstamo, para lo cual quieren desarrollar un sistema que tome dicha decision basándose en un modelo de scoring.\n",
        "\n",
        "2. ¿Cuál es la variable objetivo que hay que predecir? ¿Qué significado tiene?\n",
        "\n",
        "  La variable objetivo que hay que predecir se llama \"TARGET\" y es una variable categórica binaria que adquiere el valor 1 si el cliente en cuestión defaulteó su deuda, y el valor 0 si el cliente devolvió el préstamo. \n",
        "\n",
        "3. ¿Qué información (atributos) hay disponible para hacer la predicción?\n",
        "\n",
        "  Se dispone de 10 variables independientes o explicativas para cada cliente, teniendo cada una de ellas el siguiente significado:\n",
        "\n",
        "  LOAN: Monto del préstamos.\n",
        "\n",
        "  MORTDUE: Monto adeudado por la hipoteca actual.\n",
        "  \n",
        "  VALUE: Valor de la casa.\n",
        "  \n",
        "  YOJ: Años que lleva en el trabajo actual.\n",
        "  \n",
        "  DEROG: Número de informes negativos.\n",
        " \n",
        "  DELING: Número de líneas de crédito en mora.\n",
        "  \n",
        "  NINQ: Número de líneas de crédito recientes.\n",
        "  \n",
        "  CLNO: Número de líneas de crédito.\n",
        "  \n",
        "  DEBTINC: Ratio Deuda/Ingreso.\n",
        "\n",
        "4. ¿Qué atributos imagina ud. que son los más determinantes para la predicción?\n",
        "\n",
        "  A simple vista imaginamos que los atributos más importantes para predecir la devolución o no del préstamo serán la magnitud del mismo (LOAN), el historial crediticio de la persona (DEROG Y DELINQ) y qué tan pesada es la deuda que tiene que devolver en relación a sus ingresos (DEBTINC)."
      ]
    },
    {
      "cell_type": "markdown",
      "metadata": {
        "id": "FP87VaVD7zXi",
        "colab_type": "text"
      },
      "source": [
        "## Ejercicio 2: Predicción con Modelos Lineales\n",
        "\n",
        "En este ejercicio se entrenarán modelos lineales de clasificación para predecir la variable objetivo.\n",
        "\n",
        "Para ello, deberán utilizar la clase SGDClassifier de scikit-learn.\n",
        "\n",
        "Documentación:\n",
        "- https://scikit-learn.org/stable/modules/sgd.html\n",
        "- https://scikit-learn.org/stable/modules/generated/sklearn.linear_model.SGDClassifier.html\n"
      ]
    },
    {
      "cell_type": "markdown",
      "metadata": {
        "id": "644WbSZc7zXk",
        "colab_type": "text"
      },
      "source": [
        "### Ejercicio 2.1: SGDClassifier con hiperparámetros por defecto\n",
        "\n",
        "Entrenar y evaluar el clasificador SGDClassifier usando los valores por omisión de scikit-learn para todos los parámetros. Únicamente **fijar la semilla aleatoria** para hacer repetible el experimento.\n",
        "\n",
        "Evaluar sobre el conjunto de **entrenamiento** y sobre el conjunto de **evaluación**, reportando:\n",
        "- Accuracy\n",
        "- Precision\n",
        "- Recall\n",
        "- F1\n",
        "- matriz de confusión"
      ]
    },
    {
      "cell_type": "code",
      "metadata": {
        "id": "KAWxrs2z7zXl",
        "colab_type": "code",
        "colab": {
          "base_uri": "https://localhost:8080/",
          "height": 126
        },
        "outputId": "13f786e0-5442-4c44-a5a9-4d58fa6aa57a"
      },
      "source": [
        "# ENTRENAMIENTO:\n",
        "\n",
        "from sklearn.linear_model import SGDClassifier\n",
        "from sklearn.preprocessing import StandardScaler\n",
        "\n",
        "clf = SGDClassifier(random_state=0)\n",
        "scaler = StandardScaler()\n",
        "\n",
        " # Normalizamos (sólo los imputs) para tener mejor resultados del Algoritmo Descenso Gradiente\n",
        "scaler.fit(X_train)\n",
        "\n",
        "X_train_s = scaler.transform(X_train)\n",
        "X_test_s = scaler.transform(X_test) \n",
        "\n",
        " # Entrenamos los datos normalizados con el Algoritmo Descenso Gradiente\n",
        "\n",
        "clf.fit(X_train_s, y_train)\n"
      ],
      "execution_count": null,
      "outputs": [
        {
          "output_type": "execute_result",
          "data": {
            "text/plain": [
              "SGDClassifier(alpha=0.0001, average=False, class_weight=None,\n",
              "              early_stopping=False, epsilon=0.1, eta0=0.0, fit_intercept=True,\n",
              "              l1_ratio=0.15, learning_rate='optimal', loss='hinge',\n",
              "              max_iter=1000, n_iter_no_change=5, n_jobs=None, penalty='l2',\n",
              "              power_t=0.5, random_state=0, shuffle=True, tol=0.001,\n",
              "              validation_fraction=0.1, verbose=0, warm_start=False)"
            ]
          },
          "metadata": {
            "tags": []
          },
          "execution_count": 11
        }
      ]
    },
    {
      "cell_type": "code",
      "metadata": {
        "id": "GEs46AAU7zXw",
        "colab_type": "code",
        "colab": {}
      },
      "source": [
        "# PREDICCIÓN:\n",
        "\n",
        "y_train_predict = clf.predict(X_train_s)\n",
        "\n",
        "y_test_predict = clf.predict(X_test_s)"
      ],
      "execution_count": null,
      "outputs": []
    },
    {
      "cell_type": "markdown",
      "metadata": {
        "id": "SErQ2XTN7zYk",
        "colab_type": "text"
      },
      "source": [
        "##### Accuracy:\n",
        "  \n",
        "  La accuracy es una medida que simplemente indica la proporcion de nuestras predicciones que fueron correctas, independientemente de si corresponden a la categoría positiva o negativa. \n",
        "  El problema con la accuracy es que puede suceder que se vuelva una métrica inútil por sí sola, especialmente cuando el conjunto de test está muy desbalanceado: un modelo que sólo prediga negativos puede tener una accuracy del 98% en un data set en el que sólo el 2% de las observaciones son positivas. Es por eso que se torna necesario usar otras métricas de evaluación de la performance del modelo que tengan en cuenta el hecho de algunas veces es mucho más costoso, en el contexto en el que se esté trabajando, tener falsos negativos que falsos positivos y viceversa. "
      ]
    },
    {
      "cell_type": "code",
      "metadata": {
        "id": "bGaqtlhl7zYt",
        "colab_type": "code",
        "colab": {
          "base_uri": "https://localhost:8080/",
          "height": 54
        },
        "outputId": "5365affb-b756-4da3-89a0-3e104aeb1161"
      },
      "source": [
        "from sklearn.metrics import accuracy_score\n",
        "\n",
        "train_acc = accuracy_score(y_train, y_train_predict)\n",
        "test_acc = accuracy_score(y_test, y_test_predict)\n",
        "print(f'Train accuracy: {train_acc:0.2}')\n",
        "print(f'Test accuracy: {test_acc:0.2}')"
      ],
      "execution_count": null,
      "outputs": [
        {
          "output_type": "stream",
          "text": [
            "Train accuracy: 0.87\n",
            "Test accuracy: 0.87\n"
          ],
          "name": "stdout"
        }
      ]
    },
    {
      "cell_type": "markdown",
      "metadata": {
        "id": "A5epNrAg7zdA",
        "colab_type": "text"
      },
      "source": [
        "##### Precision:\n",
        "\n",
        "  La precision del modelo indica la proporción de predicciones positivas correctas (True Positives) respecto al total de predicciones positivas (True Positives + False Positives). Mientras mayor sea la precisión, significa que un mayor porcentaje de mis predicciones positivas fueron correctas y por lo tanto estoy teniendo pocas falsas alarmas (Falsos Positivos). Esto es muy útil de saber porque cuando pase a utilizar el modelo para predecir sobre un nuevo conjunto de datos, saber que la precisión de mi algoritmo es alta me da cierta seguridad para tratar los casos predecidos como positivos sin espacio para dudar de lo que sucedería si me estoy equivocando. "
      ]
    },
    {
      "cell_type": "code",
      "metadata": {
        "id": "UI6_UpBj7zdL",
        "colab_type": "code",
        "colab": {
          "base_uri": "https://localhost:8080/",
          "height": 54
        },
        "outputId": "6c4ea60c-1edb-47ea-966a-50af54578c54"
      },
      "source": [
        "from sklearn.metrics import precision_score\n",
        "\n",
        "train_precision = precision_score(y_train, y_train_predict)\n",
        "test_precision = precision_score(y_test, y_test_predict)\n",
        "\n",
        "print(f'Train precision: {train_precision: 0.2}')\n",
        "print(f'Test precision: {test_precision: 0.2}')"
      ],
      "execution_count": null,
      "outputs": [
        {
          "output_type": "stream",
          "text": [
            "Train precision:  0.71\n",
            "Test precision:  0.65\n"
          ],
          "name": "stdout"
        }
      ]
    },
    {
      "cell_type": "code",
      "metadata": {
        "id": "lUXoUvSc7zdb",
        "colab_type": "code",
        "colab": {
          "base_uri": "https://localhost:8080/",
          "height": 54
        },
        "outputId": "1075aa38-b18b-4776-f2e8-47784ea56928"
      },
      "source": [
        "# También podríamos crear nosotros mismos una funcion que calcula la precisión del modelo:\n",
        "\n",
        "def precision(lista1, lista2):\n",
        "    numerador = ((lista1 == 1) & (lista1 == lista2)).sum()\n",
        "    denominador = (lista1 == 1).sum()\n",
        "    return (numerador/denominador)\n",
        "                               \n",
        "\n",
        "precision_entrenamiento = precision(y_train_predict, y_train)\n",
        "precision_test = precision(y_test_predict, y_test)\n",
        "\n",
        "print(f'Train precision: {precision_entrenamiento: 0.2}')\n",
        "print(f'Test precision: {precision_test: 0.2}')\n"
      ],
      "execution_count": null,
      "outputs": [
        {
          "output_type": "stream",
          "text": [
            "Train precision:  0.71\n",
            "Test precision:  0.65\n"
          ],
          "name": "stdout"
        }
      ]
    },
    {
      "cell_type": "markdown",
      "metadata": {
        "id": "mbD_FFKvi-v8",
        "colab_type": "text"
      },
      "source": [
        "##### Recall:\n",
        "\n",
        "  La Recall es la tasa de verdaderos positivos, mide la proporción de verdaderos positivos (True Positives) respecto al total de casos efectivamente positivos en el conjunto. "
      ]
    },
    {
      "cell_type": "code",
      "metadata": {
        "id": "9HQhZ_idj05x",
        "colab_type": "code",
        "colab": {
          "base_uri": "https://localhost:8080/",
          "height": 54
        },
        "outputId": "ad4bf411-93ed-4db9-8cc6-1f9707a87680"
      },
      "source": [
        "from sklearn.metrics import recall_score\n",
        "\n",
        "train_recall = recall_score(y_train, y_train_predict)\n",
        "test_recall = recall_score(y_test, y_test_predict)\n",
        "\n",
        "print(f'Train recall: {train_recall: 0.2}')\n",
        "print(f'Test recall: {test_recall: 0.2}')"
      ],
      "execution_count": null,
      "outputs": [
        {
          "output_type": "stream",
          "text": [
            "Train recall:  0.42\n",
            "Test recall:  0.34\n"
          ],
          "name": "stdout"
        }
      ]
    },
    {
      "cell_type": "code",
      "metadata": {
        "id": "wgtfSN4ukcIZ",
        "colab_type": "code",
        "colab": {
          "base_uri": "https://localhost:8080/",
          "height": 54
        },
        "outputId": "eb816a36-3aa5-4775-b7c0-9b576ec299df"
      },
      "source": [
        "# También podríamos crear nosotros mismos una funcion que calcule la recall del modelo:\n",
        "\n",
        "def recall(lista1, lista2):\n",
        "    numerador = ((lista1 == 1) & (lista1 == lista2)).sum()\n",
        "    denominador = (lista2 == 1).sum()\n",
        "    return (numerador/denominador)\n",
        "                               \n",
        "\n",
        "recall_entrenamiento = recall(y_train_predict, y_train)\n",
        "recall_test = recall(y_test_predict, y_test)\n",
        "\n",
        "print(f'Train recall: {recall_entrenamiento: 0.2}')\n",
        "print(f'Test recall: {recall_test: 0.2}')"
      ],
      "execution_count": null,
      "outputs": [
        {
          "output_type": "stream",
          "text": [
            "Train recall:  0.42\n",
            "Test recall:  0.34\n"
          ],
          "name": "stdout"
        }
      ]
    },
    {
      "cell_type": "markdown",
      "metadata": {
        "id": "arnFMs6FlIJx",
        "colab_type": "text"
      },
      "source": [
        "##### F1:\n",
        "\n",
        "  El Score F1 es una medida bastante completa que combina simultaneamente la Precision y la Recall mediante la siguiente fórmula:\n",
        "\n",
        "        F1 = 2 . (Precision * Recall) / (Precision + Recall)"
      ]
    },
    {
      "cell_type": "code",
      "metadata": {
        "id": "8X5gLVwcl4Cf",
        "colab_type": "code",
        "colab": {
          "base_uri": "https://localhost:8080/",
          "height": 54
        },
        "outputId": "66588c8b-5e31-4e36-96ce-da1ed619c0f6"
      },
      "source": [
        "from sklearn.metrics import f1_score\n",
        "\n",
        "train_f1 = f1_score(y_train, y_train_predict)\n",
        "test_f1 = f1_score(y_test, y_test_predict)\n",
        "\n",
        "print(f'Train F1: {train_f1: 0.2}')\n",
        "print(f'Test F1: {test_f1: 0.2}')"
      ],
      "execution_count": null,
      "outputs": [
        {
          "output_type": "stream",
          "text": [
            "Train F1:  0.53\n",
            "Test F1:  0.45\n"
          ],
          "name": "stdout"
        }
      ]
    },
    {
      "cell_type": "code",
      "metadata": {
        "id": "Rz_PmQXPmQxk",
        "colab_type": "code",
        "colab": {
          "base_uri": "https://localhost:8080/",
          "height": 54
        },
        "outputId": "f28e0fd5-f219-46dd-a616-ad4d33550ea6"
      },
      "source": [
        "# También podríamos crear nosotros mismos una funcion que calcule la F1 del modelo:\n",
        "\n",
        "def f1(lista1, lista2):\n",
        "    numerador = 2 * (precision(lista1, lista2) * recall(lista1, lista2))\n",
        "    denominador = (precision(lista1, lista2) + recall(lista1, lista2))\n",
        "    return (numerador/denominador)\n",
        "                               \n",
        "\n",
        "f1_entrenamiento = f1(y_train_predict, y_train)\n",
        "f1_test = f1(y_test_predict, y_test)\n",
        "\n",
        "print(f'Train F1: {f1_entrenamiento: 0.2}')\n",
        "print(f'Test F1: {f1_test: 0.2}')"
      ],
      "execution_count": null,
      "outputs": [
        {
          "output_type": "stream",
          "text": [
            "Train F1:  0.53\n",
            "Test F1:  0.45\n"
          ],
          "name": "stdout"
        }
      ]
    },
    {
      "cell_type": "markdown",
      "metadata": {
        "id": "WJJHys4ynhzJ",
        "colab_type": "text"
      },
      "source": [
        "##### Matriz de Confusiones\n",
        "\n",
        "  La Matriz de Confusiones es muy útil para saber cuáles son las clases o categorías de la variable dependiente en las que se cometen más errores al momento de predecir. \n",
        "  Las filas de la Matriz de predicciones se corresponden con las verdaderas clases de la variable categórica (en nuestro ejemplo que nos encontramos frente a una variable binaria, sólo tendremos dos filas), mientras que las columnas se corresponden con las clases predichas (y por ende también tendremos dos columnas). Si sumamos las filas de la matriz, obtendremos la cantidad de ejemplos corresponientes a la clase de esa fila, mientras que si sumamos por columna, obtendremos la cantidad de ejemplos que se predijeron corresponden a esa clase. Por lo tanto, un modelo de prediccion perfecto generaria una Matriz de Confusiones diagonal, es decir, que sólo va a tener elemenos distintos de cero en las posiciones pertenecientes a la diagonal principal."
      ]
    },
    {
      "cell_type": "code",
      "metadata": {
        "id": "dzcW8adOoj1t",
        "colab_type": "code",
        "colab": {
          "base_uri": "https://localhost:8080/",
          "height": 72
        },
        "outputId": "0c67fe78-2ad7-4469-f5de-e91933b76f86"
      },
      "source": [
        "from sklearn.metrics import confusion_matrix\n",
        "\n",
        "print('CONFUSION MATRIX:')\n",
        "confusion_matrix(y_test, y_test_predict)\n"
      ],
      "execution_count": null,
      "outputs": [
        {
          "output_type": "stream",
          "text": [
            "CONFUSION MATRIX:\n"
          ],
          "name": "stdout"
        },
        {
          "output_type": "execute_result",
          "data": {
            "text/plain": [
              "array([[302,  11],\n",
              "       [ 38,  20]])"
            ]
          },
          "metadata": {
            "tags": []
          },
          "execution_count": 20
        }
      ]
    },
    {
      "cell_type": "markdown",
      "metadata": {
        "id": "XeXvX-YnqxIb",
        "colab_type": "text"
      },
      "source": [
        "La matriz de confusiones se puede interpretar de la siguiente manera: en el conjunto de test había 313 casos de personas que pagaron su deuda, de los cuales nuestros modelos predijo correctamente 302 y se confundio en 11. Es decir, hay 11 personas que nuestro modelo predijo que NO pagaron su deuda cuando en realidad si la pagaron.\n",
        "Por otra parte, en el conjunto de test hay tambien 58 personas que efectivamente defaultearon su deuda, de los cuales nuestro modelo predijo correctamente 20 y se equivocó en 38. Es decir, hay 38 personas para los cuales nuestro modelo predijo que SI pagaron la deuda cuando en realidad NO la pagaron.\n",
        "Al interpretar la matriz nos damos cuentas que acualmente el modelo se encuentra sesgado para los casos positivos, es decir presenta una tendencia a decir que las personas si devuelven su deuda. "
      ]
    },
    {
      "cell_type": "markdown",
      "metadata": {
        "id": "cYWfyP_l7zd5",
        "colab_type": "text"
      },
      "source": [
        "### Ejercicio 2.2: Ajuste de Hiperparámetros\n",
        "\n",
        "Seleccionar valores para los hiperparámetros principales del SGDClassifier. Como mínimo, probar diferentes funciones de loss, tasas de entrenamiento y tasas de regularización.\n",
        "\n",
        "Para ello, usar grid-search y 5-fold cross-validation sobre el conjunto de entrenamiento para explorar muchas combinaciones posibles de valores.\n",
        "\n",
        "Reportar accuracy promedio y varianza para todas las configuraciones.\n",
        "\n",
        "Para la mejor configuración encontrada, evaluar sobre el conjunto de **entrenamiento** y sobre el conjunto de **evaluación**, reportando:\n",
        "- Accuracy\n",
        "- Precision\n",
        "- Recall\n",
        "- F1\n",
        "- matriz de confusión\n",
        "\n",
        "Documentación:\n",
        "- https://scikit-learn.org/stable/modules/grid_search.html\n",
        "- https://scikit-learn.org/stable/modules/generated/sklearn.model_selection.GridSearchCV.html"
      ]
    },
    {
      "cell_type": "markdown",
      "metadata": {
        "id": "rqbPX6_i11RU",
        "colab_type": "text"
      },
      "source": [
        "##### Cross-Validation: \n",
        "\n",
        "  El método de Cross-Validation consiste en tomar el training set y dividirlo en n (en este caso 5) subgrupos. Luego, se aplica el modelo clasifcador seleccionado 5 veces: en cada una se utiliza un subgrupo distinto como conjunto de validación y los restantes como conjunto de entrenamiento. Esto sirve para tener distintas estimaciones y métricas respecto a qué tan bien funciona el modelo cuando se lo entrena y valida con distintos conjuntos. "
      ]
    },
    {
      "cell_type": "code",
      "metadata": {
        "id": "RX8panbIs7kl",
        "colab_type": "code",
        "colab": {
          "base_uri": "https://localhost:8080/",
          "height": 68
        },
        "outputId": "213dcbee-ecd6-4132-ee68-5dcba69e54c4"
      },
      "source": [
        "# Cross-Validaiton:\n",
        "\n",
        "from sklearn.model_selection import cross_val_score\n",
        "\n",
        "# La consigna pide que usemos un 5-fold cross validation, por lo que se procede a dividir el conjunto de entrenamiento X en 5 subgrupos:\n",
        "\n",
        "subgrupos = cross_val_score(clf, X, y, cv=5)\n",
        "\n",
        "print(\"Accuracy de cada subgrupo:\", subgrupos)\n",
        "print(\"Accuracy promedio de todos los modelos:\",subgrupos.mean())\n",
        "print(\"Desviación Standar de las accuracies:\", subgrupos.std())"
      ],
      "execution_count": null,
      "outputs": [
        {
          "output_type": "stream",
          "text": [
            "Accuracy de cada subgrupo: [0.82210243 0.8328841  0.8328841  0.8328841  0.3972973 ]\n",
            "Accuracy promedio de todos los modelos: 0.7436104028556859\n",
            "Desviación Standar de las accuracies: 0.17320689488389635\n"
          ],
          "name": "stdout"
        }
      ]
    },
    {
      "cell_type": "code",
      "metadata": {
        "id": "xjVF668t4KRI",
        "colab_type": "code",
        "colab": {}
      },
      "source": [
        "# A continuacion defino todas las variantes que quiero que se vayan aplicando en los hiperparámetros de mi modelo. Entonces, por ejemplo, el\n",
        "# argumento loss es una lista que indica las diferentes funciones de costo que que va a minimizar mi clasificador. Lo mismo sucede con el \n",
        "# parámetro penalty (que indica los distintos niveles de penalidad que le confiero a la posibilidad de que el modelo caiga en overfitting),\n",
        "# y con learning rate. \n",
        "\n",
        "param_grid = {\n",
        "    'loss' : ['hinge', 'log', 'perceptron', 'modified_huber', 'squared_hinge'],\n",
        "    'penalty' : ['l2', 'l1', 'elasticnet'], \n",
        "    'learning_rate' : ['constant','optimal','invscaling','adaptive'],\n",
        "    'eta0' : [0.1,0.2,0.4,1]\n",
        "}"
      ],
      "execution_count": null,
      "outputs": []
    },
    {
      "cell_type": "code",
      "metadata": {
        "id": "0QN0XMVX49vc",
        "colab_type": "code",
        "colab": {}
      },
      "source": [
        "# Entreno el modelo probando los distintos hiperparámetros (pero notar que el clasificador utilizado sigue siendo el Algoritmo de Descenso\n",
        "# Gradiente, lo único que cambia es que ahora se va a ir aplicando dicho algoritmo pero cada vez con hiperparámetros distintos y desdoblando\n",
        "# el conjunto de entrenamiento en tres subgrupos distintos)\n",
        "\n",
        "from sklearn.model_selection import GridSearchCV\n",
        "\n",
        "nuevo_modelo = GridSearchCV(clf, param_grid, scoring='accuracy', cv=3)\n",
        "\n",
        "nuevo_modelo.fit(X, y);"
      ],
      "execution_count": null,
      "outputs": []
    },
    {
      "cell_type": "code",
      "metadata": {
        "id": "SOhcNn6D56eE",
        "colab_type": "code",
        "colab": {
          "base_uri": "https://localhost:8080/",
          "height": 419
        },
        "outputId": "48e6f389-95d0-4667-f749-c64b7f787e23"
      },
      "source": [
        "resultados = nuevo_modelo.cv_results_\n",
        "df = pd.DataFrame(resultados)\n",
        "df[['param_loss', 'param_penalty','param_eta0', 'mean_test_score', 'std_test_score', 'rank_test_score']]"
      ],
      "execution_count": null,
      "outputs": [
        {
          "output_type": "execute_result",
          "data": {
            "text/html": [
              "<div>\n",
              "<style scoped>\n",
              "    .dataframe tbody tr th:only-of-type {\n",
              "        vertical-align: middle;\n",
              "    }\n",
              "\n",
              "    .dataframe tbody tr th {\n",
              "        vertical-align: top;\n",
              "    }\n",
              "\n",
              "    .dataframe thead th {\n",
              "        text-align: right;\n",
              "    }\n",
              "</style>\n",
              "<table border=\"1\" class=\"dataframe\">\n",
              "  <thead>\n",
              "    <tr style=\"text-align: right;\">\n",
              "      <th></th>\n",
              "      <th>param_loss</th>\n",
              "      <th>param_penalty</th>\n",
              "      <th>param_eta0</th>\n",
              "      <th>mean_test_score</th>\n",
              "      <th>std_test_score</th>\n",
              "      <th>rank_test_score</th>\n",
              "    </tr>\n",
              "  </thead>\n",
              "  <tbody>\n",
              "    <tr>\n",
              "      <th>0</th>\n",
              "      <td>hinge</td>\n",
              "      <td>l2</td>\n",
              "      <td>0.1</td>\n",
              "      <td>0.807443</td>\n",
              "      <td>0.035476</td>\n",
              "      <td>113</td>\n",
              "    </tr>\n",
              "    <tr>\n",
              "      <th>1</th>\n",
              "      <td>hinge</td>\n",
              "      <td>l1</td>\n",
              "      <td>0.1</td>\n",
              "      <td>0.809601</td>\n",
              "      <td>0.017594</td>\n",
              "      <td>104</td>\n",
              "    </tr>\n",
              "    <tr>\n",
              "      <th>2</th>\n",
              "      <td>hinge</td>\n",
              "      <td>elasticnet</td>\n",
              "      <td>0.1</td>\n",
              "      <td>0.811758</td>\n",
              "      <td>0.015762</td>\n",
              "      <td>96</td>\n",
              "    </tr>\n",
              "    <tr>\n",
              "      <th>3</th>\n",
              "      <td>log</td>\n",
              "      <td>l2</td>\n",
              "      <td>0.1</td>\n",
              "      <td>0.820388</td>\n",
              "      <td>0.018307</td>\n",
              "      <td>78</td>\n",
              "    </tr>\n",
              "    <tr>\n",
              "      <th>4</th>\n",
              "      <td>log</td>\n",
              "      <td>l1</td>\n",
              "      <td>0.1</td>\n",
              "      <td>0.601942</td>\n",
              "      <td>0.304640</td>\n",
              "      <td>213</td>\n",
              "    </tr>\n",
              "    <tr>\n",
              "      <th>...</th>\n",
              "      <td>...</td>\n",
              "      <td>...</td>\n",
              "      <td>...</td>\n",
              "      <td>...</td>\n",
              "      <td>...</td>\n",
              "      <td>...</td>\n",
              "    </tr>\n",
              "    <tr>\n",
              "      <th>235</th>\n",
              "      <td>modified_huber</td>\n",
              "      <td>l1</td>\n",
              "      <td>1</td>\n",
              "      <td>0.745955</td>\n",
              "      <td>0.036614</td>\n",
              "      <td>170</td>\n",
              "    </tr>\n",
              "    <tr>\n",
              "      <th>236</th>\n",
              "      <td>modified_huber</td>\n",
              "      <td>elasticnet</td>\n",
              "      <td>1</td>\n",
              "      <td>0.748112</td>\n",
              "      <td>0.037048</td>\n",
              "      <td>162</td>\n",
              "    </tr>\n",
              "    <tr>\n",
              "      <th>237</th>\n",
              "      <td>squared_hinge</td>\n",
              "      <td>l2</td>\n",
              "      <td>1</td>\n",
              "      <td>0.751888</td>\n",
              "      <td>0.031828</td>\n",
              "      <td>146</td>\n",
              "    </tr>\n",
              "    <tr>\n",
              "      <th>238</th>\n",
              "      <td>squared_hinge</td>\n",
              "      <td>l1</td>\n",
              "      <td>1</td>\n",
              "      <td>0.747033</td>\n",
              "      <td>0.036287</td>\n",
              "      <td>168</td>\n",
              "    </tr>\n",
              "    <tr>\n",
              "      <th>239</th>\n",
              "      <td>squared_hinge</td>\n",
              "      <td>elasticnet</td>\n",
              "      <td>1</td>\n",
              "      <td>0.744337</td>\n",
              "      <td>0.033502</td>\n",
              "      <td>173</td>\n",
              "    </tr>\n",
              "  </tbody>\n",
              "</table>\n",
              "<p>240 rows × 6 columns</p>\n",
              "</div>"
            ],
            "text/plain": [
              "         param_loss param_penalty  ... std_test_score  rank_test_score\n",
              "0             hinge            l2  ...       0.035476              113\n",
              "1             hinge            l1  ...       0.017594              104\n",
              "2             hinge    elasticnet  ...       0.015762               96\n",
              "3               log            l2  ...       0.018307               78\n",
              "4               log            l1  ...       0.304640              213\n",
              "..              ...           ...  ...            ...              ...\n",
              "235  modified_huber            l1  ...       0.036614              170\n",
              "236  modified_huber    elasticnet  ...       0.037048              162\n",
              "237   squared_hinge            l2  ...       0.031828              146\n",
              "238   squared_hinge            l1  ...       0.036287              168\n",
              "239   squared_hinge    elasticnet  ...       0.033502              173\n",
              "\n",
              "[240 rows x 6 columns]"
            ]
          },
          "metadata": {
            "tags": []
          },
          "execution_count": 24
        }
      ]
    },
    {
      "cell_type": "code",
      "metadata": {
        "id": "uxH4OOxq7GaI",
        "colab_type": "code",
        "colab": {
          "base_uri": "https://localhost:8080/",
          "height": 359
        },
        "outputId": "969383ac-6777-4d24-cb78-6dd07d620ca8"
      },
      "source": [
        "# ¿Entonces cuál es el mejor modelo?\n",
        "\n",
        "df2 = df.loc[df.rank_test_score == 1]\n",
        "df2[['param_loss', 'param_penalty','param_eta0', 'mean_test_score', 'std_test_score', 'rank_test_score']]\n",
        "\n"
      ],
      "execution_count": null,
      "outputs": [
        {
          "output_type": "execute_result",
          "data": {
            "text/html": [
              "<div>\n",
              "<style scoped>\n",
              "    .dataframe tbody tr th:only-of-type {\n",
              "        vertical-align: middle;\n",
              "    }\n",
              "\n",
              "    .dataframe tbody tr th {\n",
              "        vertical-align: top;\n",
              "    }\n",
              "\n",
              "    .dataframe thead th {\n",
              "        text-align: right;\n",
              "    }\n",
              "</style>\n",
              "<table border=\"1\" class=\"dataframe\">\n",
              "  <thead>\n",
              "    <tr style=\"text-align: right;\">\n",
              "      <th></th>\n",
              "      <th>param_loss</th>\n",
              "      <th>param_penalty</th>\n",
              "      <th>param_eta0</th>\n",
              "      <th>mean_test_score</th>\n",
              "      <th>std_test_score</th>\n",
              "      <th>rank_test_score</th>\n",
              "    </tr>\n",
              "  </thead>\n",
              "  <tbody>\n",
              "    <tr>\n",
              "      <th>19</th>\n",
              "      <td>log</td>\n",
              "      <td>l1</td>\n",
              "      <td>0.1</td>\n",
              "      <td>0.833333</td>\n",
              "      <td>0.0</td>\n",
              "      <td>1</td>\n",
              "    </tr>\n",
              "    <tr>\n",
              "      <th>79</th>\n",
              "      <td>log</td>\n",
              "      <td>l1</td>\n",
              "      <td>0.2</td>\n",
              "      <td>0.833333</td>\n",
              "      <td>0.0</td>\n",
              "      <td>1</td>\n",
              "    </tr>\n",
              "    <tr>\n",
              "      <th>102</th>\n",
              "      <td>squared_hinge</td>\n",
              "      <td>l2</td>\n",
              "      <td>0.2</td>\n",
              "      <td>0.833333</td>\n",
              "      <td>0.0</td>\n",
              "      <td>1</td>\n",
              "    </tr>\n",
              "    <tr>\n",
              "      <th>104</th>\n",
              "      <td>squared_hinge</td>\n",
              "      <td>elasticnet</td>\n",
              "      <td>0.2</td>\n",
              "      <td>0.833333</td>\n",
              "      <td>0.0</td>\n",
              "      <td>1</td>\n",
              "    </tr>\n",
              "    <tr>\n",
              "      <th>139</th>\n",
              "      <td>log</td>\n",
              "      <td>l1</td>\n",
              "      <td>0.4</td>\n",
              "      <td>0.833333</td>\n",
              "      <td>0.0</td>\n",
              "      <td>1</td>\n",
              "    </tr>\n",
              "    <tr>\n",
              "      <th>180</th>\n",
              "      <td>hinge</td>\n",
              "      <td>l2</td>\n",
              "      <td>1</td>\n",
              "      <td>0.833333</td>\n",
              "      <td>0.0</td>\n",
              "      <td>1</td>\n",
              "    </tr>\n",
              "    <tr>\n",
              "      <th>186</th>\n",
              "      <td>perceptron</td>\n",
              "      <td>l2</td>\n",
              "      <td>1</td>\n",
              "      <td>0.833333</td>\n",
              "      <td>0.0</td>\n",
              "      <td>1</td>\n",
              "    </tr>\n",
              "    <tr>\n",
              "      <th>199</th>\n",
              "      <td>log</td>\n",
              "      <td>l1</td>\n",
              "      <td>1</td>\n",
              "      <td>0.833333</td>\n",
              "      <td>0.0</td>\n",
              "      <td>1</td>\n",
              "    </tr>\n",
              "    <tr>\n",
              "      <th>213</th>\n",
              "      <td>log</td>\n",
              "      <td>l2</td>\n",
              "      <td>1</td>\n",
              "      <td>0.833333</td>\n",
              "      <td>0.0</td>\n",
              "      <td>1</td>\n",
              "    </tr>\n",
              "    <tr>\n",
              "      <th>219</th>\n",
              "      <td>modified_huber</td>\n",
              "      <td>l2</td>\n",
              "      <td>1</td>\n",
              "      <td>0.833333</td>\n",
              "      <td>0.0</td>\n",
              "      <td>1</td>\n",
              "    </tr>\n",
              "  </tbody>\n",
              "</table>\n",
              "</div>"
            ],
            "text/plain": [
              "         param_loss param_penalty  ... std_test_score  rank_test_score\n",
              "19              log            l1  ...            0.0                1\n",
              "79              log            l1  ...            0.0                1\n",
              "102   squared_hinge            l2  ...            0.0                1\n",
              "104   squared_hinge    elasticnet  ...            0.0                1\n",
              "139             log            l1  ...            0.0                1\n",
              "180           hinge            l2  ...            0.0                1\n",
              "186      perceptron            l2  ...            0.0                1\n",
              "199             log            l1  ...            0.0                1\n",
              "213             log            l2  ...            0.0                1\n",
              "219  modified_huber            l2  ...            0.0                1\n",
              "\n",
              "[10 rows x 6 columns]"
            ]
          },
          "metadata": {
            "tags": []
          },
          "execution_count": 25
        }
      ]
    },
    {
      "cell_type": "code",
      "metadata": {
        "id": "y6e4n8ZY85rt",
        "colab_type": "code",
        "colab": {
          "base_uri": "https://localhost:8080/",
          "height": 136
        },
        "outputId": "8f84e3ed-08e7-4a77-f70e-2eb4ea6b571a"
      },
      "source": [
        "# ¿De todos los rankeados como 1 cuál es efectivamente el mejor?\n",
        "# A continuación se imprime los mejores valores posibles de los hiperparámetros del clasificador de Descenso Gradiente.\n",
        "\n",
        "mejor_estimador = nuevo_modelo.best_estimator_\n",
        "\n",
        "nuevo_modelo.best_params_ , mejor_estimador \n"
      ],
      "execution_count": null,
      "outputs": [
        {
          "output_type": "execute_result",
          "data": {
            "text/plain": [
              "({'eta0': 0.1, 'learning_rate': 'optimal', 'loss': 'log', 'penalty': 'l1'},\n",
              " SGDClassifier(alpha=0.0001, average=False, class_weight=None,\n",
              "               early_stopping=False, epsilon=0.1, eta0=0.1, fit_intercept=True,\n",
              "               l1_ratio=0.15, learning_rate='optimal', loss='log', max_iter=1000,\n",
              "               n_iter_no_change=5, n_jobs=None, penalty='l1', power_t=0.5,\n",
              "               random_state=0, shuffle=True, tol=0.001, validation_fraction=0.1,\n",
              "               verbose=0, warm_start=False))"
            ]
          },
          "metadata": {
            "tags": []
          },
          "execution_count": 26
        }
      ]
    },
    {
      "cell_type": "markdown",
      "metadata": {
        "id": "h3fUuFQ43Mve",
        "colab_type": "text"
      },
      "source": [
        "Ahora que ya conozco el valor de los hiperparámetros que generan, en conjunto, el mejor modelo predictivo posible dados los datos, procedo a entrenar un modelo utilizando esos valores para los hiperparámetros. \n",
        "Luego, al obtener las métricas de accuracy, precisión y demás, deberían dar mejor que las obtenidas para el primer modelo en el que simplemente se utilizaron los hiperparámetros que vienen por default con scikit learn."
      ]
    },
    {
      "cell_type": "code",
      "metadata": {
        "id": "EhlLkfx13h_L",
        "colab_type": "code",
        "colab": {
          "base_uri": "https://localhost:8080/",
          "height": 136
        },
        "outputId": "1baa567f-103d-4117-f8a0-c3b6d281fbbc"
      },
      "source": [
        "# ENTRENAMIENTO CON EL MEJOR MODELO POSIBLE\n",
        "\n",
        "from sklearn.linear_model import SGDClassifier\n",
        "from sklearn.preprocessing import StandardScaler\n",
        "\n",
        "clf = SGDClassifier(loss = 'hinge', learning_rate = 'constant',penalty = 'l1', eta0 = 0.1, random_state=0)\n",
        "scaler = StandardScaler()\n",
        "\n",
        " # Normalizamos (sólo los imputs) para tener mejor resultados del Algoritmo Descenso Gradiente\n",
        "scaler.fit(X_train)\n",
        "\n",
        "X_train_s = scaler.transform(X_train)\n",
        "X_test_s = scaler.transform(X_test) \n",
        "\n",
        " # Entrenamos los datos normalizados con el Algoritmo Descenso Gradiente\n",
        "\n",
        "clf.fit(X_train_s, y_train)\n",
        "\n",
        "# PREDICCIÓN CON EL MEJOR MODELO POSIBLE\n",
        "\n",
        "y_train_predict = clf.predict(X_train_s)\n",
        "\n",
        "y_test_predict = clf.predict(X_test_s)\n",
        "\n",
        "# MÉTRICAS DE PERFOMANCE DEL MEJOR MODELO POSIBLE\n",
        "\n",
        "print(\"Best model accuracy:\",accuracy_score(y_test, y_test_predict).round(2))\n",
        "print(\"Best model precision\",precision_score(y_test, y_test_predict).round(2))\n",
        "print(\"Best model recall\",recall_score(y_test, y_test_predict).round(2))\n",
        "print(\"Best model F1\",f1_score(y_test, y_test_predict).round(2)) \n",
        "print('Best model confusion matrix:')\n",
        "confusion_matrix(y_test, y_test_predict)"
      ],
      "execution_count": null,
      "outputs": [
        {
          "output_type": "stream",
          "text": [
            "Best model accuracy: 0.88\n",
            "Best model precision 1.0\n",
            "Best model recall 0.24\n",
            "Best model F1 0.39\n",
            "Best model confusion matrix:\n"
          ],
          "name": "stdout"
        },
        {
          "output_type": "execute_result",
          "data": {
            "text/plain": [
              "array([[313,   0],\n",
              "       [ 44,  14]])"
            ]
          },
          "metadata": {
            "tags": []
          },
          "execution_count": 27
        }
      ]
    },
    {
      "cell_type": "markdown",
      "metadata": {
        "id": "0tLL3tpG7zd9",
        "colab_type": "text"
      },
      "source": [
        "## Ejercicio 3: Árboles de Decisión\n",
        "\n",
        "En este ejercicio se entrenarán árboles de decisión para predecir la variable objetivo.\n",
        "\n",
        "Para ello, deberán utilizar la clase DecisionTreeClassifier de scikit-learn.\n",
        "\n",
        "Documentación:\n",
        "- https://scikit-learn.org/stable/modules/tree.html\n",
        "  - https://scikit-learn.org/stable/modules/tree.html#tips-on-practical-use\n",
        "- https://scikit-learn.org/stable/modules/generated/sklearn.tree.DecisionTreeClassifier.html\n",
        "- https://scikit-learn.org/stable/auto_examples/tree/plot_unveil_tree_structure.html"
      ]
    },
    {
      "cell_type": "markdown",
      "metadata": {
        "id": "UtvlDssH7zd_",
        "colab_type": "text"
      },
      "source": [
        "### Ejercicio 3.1: DecisionTreeClassifier con hiperparámetros por defecto\n",
        "\n",
        "Entrenar y evaluar el clasificador DecisionTreeClassifier usando los valores por omisión de scikit-learn para todos los parámetros. Únicamente **fijar la semilla aleatoria** para hacer repetible el experimento.\n",
        "\n",
        "Evaluar sobre el conjunto de **entrenamiento** y sobre el conjunto de **evaluación**, reportando:\n",
        "- Accuracy\n",
        "- Precision\n",
        "- Recall\n",
        "- F1\n",
        "- matriz de confusión\n"
      ]
    },
    {
      "cell_type": "markdown",
      "metadata": {
        "id": "RiLZ0W5gAwNW",
        "colab_type": "text"
      },
      "source": [
        "  El Árbol de decisión es un modelo de clasificación muy simple. Su modo de clasificar consiste en ir haciendo preguntas en cada nodo respecto de los atributos de las variables independientes y dependiendo de los valores que puedan adoptar esos atributos, se abren distintas ramas a partir de esos nodos que llevan a otro subárbol y asi hasta tener una clasificación completa. \n",
        "  El algoritmo detrás de la construcción del arbol es un algoritmo \"greedy\" que tiene como objetivo formar el árbol más simple posible. El algoritmo greedy aprende usando el concepto de recursión y de entropía: empieza con un árbol vacío y luego selecciona el atributo que estará en el nodo raíz. Cada valor posible que tomen los datos en ese atributo definirán las ramas que salen de ese nodo. Finalmente, parado en cada rama repite este procedimiento (recursión) hasta completar el árbol.  \n",
        "  Como se mencionó, el criterio según el cual el algoritmo selecciona el mejor atributo posible para localizar en cada nodo se basa en el concepto de entropía (aunque con scikit learn podemos pedirle que seleccione utilizando otros criterios). La entropía es una medida de incertidumbre: mientras mayor sea la incertidumbre respecto a los resultados posibles de un evento, mayor será la entropía del mismo. Entonces, lo que hace el algoritmo greedy en cada nodo es elegir el atributo que menor entropía tenga, porque utilizar los atributos que más certeza ofrezcan permitirá llegar lo más rapido posible a predecir la variable, lo cual es equivalente a decir que se está formando el árbol más chico o simple posible, que es el objetivo final del algoritmo."
      ]
    },
    {
      "cell_type": "code",
      "metadata": {
        "id": "m6GaXV4EGA6U",
        "colab_type": "code",
        "colab": {
          "base_uri": "https://localhost:8080/",
          "height": 51
        },
        "outputId": "ceb7ef2d-7eea-4c5d-ae33-142a013ae1b3"
      },
      "source": [
        "# CALCULAR LA ENTROPIA\n",
        "\n",
        "def probs(y):\n",
        "    _, counts = np.unique(y, return_counts=True)\n",
        "    probs = counts / counts.sum()\n",
        "    return probs\n",
        "\n",
        "def entropy(y):\n",
        "    p = probs(y)\n",
        "    return - np.sum(p * np.log2(p))\n",
        "\n",
        "print(\"Probabilidades a priori de que una persona devuelva y NO devuelva su préstamo, respectivamente:\", probs(y_train))\n",
        "print(\"Entropía a priorio del data set:\", entropy(y_train))"
      ],
      "execution_count": null,
      "outputs": [
        {
          "output_type": "stream",
          "text": [
            "Probabilidades a priori de que una persona devuelva y NO devuelva su préstamo, respectivamente: [0.83074848 0.16925152]\n",
            "Entropía a priorio del data set: 0.65598969959707\n"
          ],
          "name": "stdout"
        }
      ]
    },
    {
      "cell_type": "markdown",
      "metadata": {
        "id": "-4quznfHZ_Yu",
        "colab_type": "text"
      },
      "source": [
        "Pero la recien calculada es la entropía a priori del dataset, que no sirve para determinar cuál es el atributo o variable independiente con las que más conviene ir armando los nodos del árbol. Para ello se deben calcular las entropías condicionales a cada uno de los atributos para luego poder calcular cuál de ellos es el que genera una mayor ganancia de información.\n",
        "Sin embargo, como muchas de las variables independientes del dataset son reales (cuantitativas) para poder calculcar cada una de las entropías condicionales deberíamos primero seleccionar un umbral o threshold donde hacer el \"corte\" en los valores posibles de esa variable para poder separar las ramas. Este procedimiento se vuelve muy tedioso de hacerlo a mano para tantas variables y para tantos valores, por lo que se procede directamente a confeccionar el árbol con las funciones de scikit learn.\n"
      ]
    },
    {
      "cell_type": "code",
      "metadata": {
        "id": "DWs_7aWG9fK4",
        "colab_type": "code",
        "colab": {}
      },
      "source": [
        "from sklearn.tree import DecisionTreeClassifier\n",
        "\n",
        "\n",
        "clft = DecisionTreeClassifier(random_state=0)\n",
        "\n",
        "# ENTRENAMIENTO\n",
        "\n",
        "clft.fit(X_train, y_train)\n",
        "\n",
        "# PREDICCION\n",
        "\n",
        "y_train_predict = clft.predict(X_train)\n",
        "y_test_predict = clft.predict(X_test)"
      ],
      "execution_count": null,
      "outputs": []
    },
    {
      "cell_type": "code",
      "metadata": {
        "id": "-ATGMwkj9nXF",
        "colab_type": "code",
        "colab": {
          "base_uri": "https://localhost:8080/",
          "height": 153
        },
        "outputId": "1de19886-54da-48a1-a331-ffef8141d93d"
      },
      "source": [
        "train_acc = accuracy_score(y_train, y_train_predict)\n",
        "test_acc = accuracy_score(y_test, y_test_predict)\n",
        "prec_test = precision_score(y_test, y_test_predict)\n",
        "recall_test = recall_score(y_test, y_test_predict)\n",
        "f1_test = f1_score(y_test, y_test_predict)\n",
        "\n",
        "\n",
        "print(f'Train accuracy: {train_acc:0.2}')\n",
        "print(f'Test accuracy : {test_acc:0.2}')\n",
        "print(f'Test precision: {prec_test:0.2}')\n",
        "print(f'Test recall   : {recall_test:0.2}')\n",
        "print(f'Test f1 score : {f1_test:0.2}')\n",
        "print('CONFUSION MATRIX:')\n",
        "confusion_matrix(y_test, y_test_predict)"
      ],
      "execution_count": null,
      "outputs": [
        {
          "output_type": "stream",
          "text": [
            "Train accuracy: 1.0\n",
            "Test accuracy : 0.88\n",
            "Test precision: 0.62\n",
            "Test recall   : 0.64\n",
            "Test f1 score : 0.63\n",
            "CONFUSION MATRIX:\n"
          ],
          "name": "stdout"
        },
        {
          "output_type": "execute_result",
          "data": {
            "text/plain": [
              "array([[290,  23],\n",
              "       [ 21,  37]])"
            ]
          },
          "metadata": {
            "tags": []
          },
          "execution_count": 38
        }
      ]
    },
    {
      "cell_type": "markdown",
      "metadata": {
        "id": "bBTJqYTQ7zeD",
        "colab_type": "text"
      },
      "source": [
        "### Ejercicio 3.2: Ajuste de Hiperparámetros\n",
        "\n",
        "Seleccionar valores para los hiperparámetros principales del DecisionTreeClassifier. Como mínimo, probar diferentes criterios de partición (criterion), profundidad máxima del árbol (max_depth), y cantidad mínima de samples por hoja (min_samples_leaf).\n",
        "\n",
        "Para ello, usar grid-search y 5-fold cross-validation sobre el conjunto de entrenamiento para explorar muchas combinaciones posibles de valores.\n",
        "\n",
        "Reportar accuracy promedio y varianza para todas las configuraciones.\n",
        "\n",
        "Para la mejor configuración encontrada, evaluar sobre el conjunto de **entrenamiento** y sobre el conjunto de **evaluación**, reportando:\n",
        "- Accuracy\n",
        "- Precision\n",
        "- Recall\n",
        "- F1\n",
        "- matriz de confusión\n",
        "\n",
        "\n",
        "Documentación:\n",
        "- https://scikit-learn.org/stable/modules/grid_search.html\n",
        "- https://scikit-learn.org/stable/modules/generated/sklearn.model_selection.GridSearchCV.html"
      ]
    },
    {
      "cell_type": "code",
      "metadata": {
        "id": "pq5BOm4FQKbN",
        "colab_type": "code",
        "colab": {
          "base_uri": "https://localhost:8080/",
          "height": 68
        },
        "outputId": "d433f37a-0e18-4da7-e144-d8e175fa1b41"
      },
      "source": [
        "# Cross-Validaiton:\n",
        "\n",
        "from sklearn.model_selection import cross_val_score\n",
        "\n",
        "# La consigna pide que usemos un 5-fold cross validation, por lo que se procede a dividir el conjunto de entrenamiento X en 5 subgrupos:\n",
        "\n",
        "subgrupos = cross_val_score(clft, X, y, cv=5)\n",
        "\n",
        "print(\"Accuracy de cada subgrupo:\", subgrupos)\n",
        "print(\"Accuracy promedio de todos los modelos:\",subgrupos.mean())\n",
        "print(\"Desviación Standar de las accuracies:\", subgrupos.std())"
      ],
      "execution_count": null,
      "outputs": [
        {
          "output_type": "stream",
          "text": [
            "Accuracy de cada subgrupo: [0.8328841  0.8328841  0.8490566  0.86522911 0.87297297]\n",
            "Accuracy promedio de todos los modelos: 0.8506053762657537\n",
            "Desviación Standar de las accuracies: 0.016399080200692626\n"
          ],
          "name": "stdout"
        }
      ]
    },
    {
      "cell_type": "code",
      "metadata": {
        "id": "KVkrl7R5T61c",
        "colab_type": "code",
        "colab": {}
      },
      "source": [
        "# A continuacion defino todas las variantes que quiero que se vayan aplicando en los hiperparámetros de mi modelo. Entonces, por ejemplo, el\n",
        "# argumento  criterion indica los diferentes conceptos que el algoritmo debe tener en cuenta al momento de decidir qué atributo poner en cada nodo (el\n",
        "# concepto de entropía ya fue explicado más arriba). En cuanto al hiperparámetro max_depth, indica la cantidad máxima de niveles que quiero que tenga el\n",
        "# árbol. A modo de comparación, recien cuando utilizamos el clasificador con todos los hiperparámetros seteados en su valor de default, el árbol quedó tan\n",
        "# grande o profundo que dibujarlo con dimensiones sensatas resultaba imposible. Finalmente, el hiperparámetro min_samples_leaf indica la cantidad mínima de\n",
        "# muestras que quiero que tenga en cuenta cada nodo.  \n",
        "\n",
        "param_grid = {\n",
        "    'min_samples_leaf' : [1,2,3,4,5,6,7,8,9,10],\n",
        "    'criterion' : ['gini', 'entropy'], \n",
        "    'max_depth' : [1,2,3]\n",
        "}"
      ],
      "execution_count": null,
      "outputs": []
    },
    {
      "cell_type": "code",
      "metadata": {
        "id": "Mz5D_gvbThET",
        "colab_type": "code",
        "colab": {}
      },
      "source": [
        "# Entreno el modelo probando los distintos hiperparámetros definidos en la celda anterior (pero notar que el clasificador utilizado sigue siendo \n",
        "# el Árbol de Decisión, lo único que cambia es que ahora se va a ir aplicando dicho algoritmo pero cada vez con hiperparámetros distintos y desdoblando\n",
        "# el conjunto de entrenamiento en tres subgrupos distintos)\n",
        "\n",
        "from sklearn.model_selection import GridSearchCV\n",
        "\n",
        "nuevo_modelo = GridSearchCV(clft, param_grid, scoring='accuracy', cv=3)\n",
        "\n",
        "nuevo_modelo.fit(X, y);"
      ],
      "execution_count": null,
      "outputs": []
    },
    {
      "cell_type": "code",
      "metadata": {
        "id": "rzVZCblwV8Ip",
        "colab_type": "code",
        "colab": {
          "base_uri": "https://localhost:8080/",
          "height": 204
        },
        "outputId": "93f1a9a4-6176-4e45-e9f3-59e01f449b26"
      },
      "source": [
        "resultados = nuevo_modelo.cv_results_\n",
        "df = pd.DataFrame(resultados)\n",
        "df[['param_max_depth', 'param_criterion','param_min_samples_leaf', 'mean_test_score', 'std_test_score', 'rank_test_score']].head()"
      ],
      "execution_count": null,
      "outputs": [
        {
          "output_type": "execute_result",
          "data": {
            "text/html": [
              "<div>\n",
              "<style scoped>\n",
              "    .dataframe tbody tr th:only-of-type {\n",
              "        vertical-align: middle;\n",
              "    }\n",
              "\n",
              "    .dataframe tbody tr th {\n",
              "        vertical-align: top;\n",
              "    }\n",
              "\n",
              "    .dataframe thead th {\n",
              "        text-align: right;\n",
              "    }\n",
              "</style>\n",
              "<table border=\"1\" class=\"dataframe\">\n",
              "  <thead>\n",
              "    <tr style=\"text-align: right;\">\n",
              "      <th></th>\n",
              "      <th>param_max_depth</th>\n",
              "      <th>param_criterion</th>\n",
              "      <th>param_min_samples_leaf</th>\n",
              "      <th>mean_test_score</th>\n",
              "      <th>std_test_score</th>\n",
              "      <th>rank_test_score</th>\n",
              "    </tr>\n",
              "  </thead>\n",
              "  <tbody>\n",
              "    <tr>\n",
              "      <th>0</th>\n",
              "      <td>1</td>\n",
              "      <td>gini</td>\n",
              "      <td>1</td>\n",
              "      <td>0.87109</td>\n",
              "      <td>0.013234</td>\n",
              "      <td>7</td>\n",
              "    </tr>\n",
              "    <tr>\n",
              "      <th>1</th>\n",
              "      <td>1</td>\n",
              "      <td>gini</td>\n",
              "      <td>2</td>\n",
              "      <td>0.87109</td>\n",
              "      <td>0.013234</td>\n",
              "      <td>7</td>\n",
              "    </tr>\n",
              "    <tr>\n",
              "      <th>2</th>\n",
              "      <td>1</td>\n",
              "      <td>gini</td>\n",
              "      <td>3</td>\n",
              "      <td>0.87109</td>\n",
              "      <td>0.013234</td>\n",
              "      <td>7</td>\n",
              "    </tr>\n",
              "    <tr>\n",
              "      <th>3</th>\n",
              "      <td>1</td>\n",
              "      <td>gini</td>\n",
              "      <td>4</td>\n",
              "      <td>0.87109</td>\n",
              "      <td>0.013234</td>\n",
              "      <td>7</td>\n",
              "    </tr>\n",
              "    <tr>\n",
              "      <th>4</th>\n",
              "      <td>1</td>\n",
              "      <td>gini</td>\n",
              "      <td>5</td>\n",
              "      <td>0.87109</td>\n",
              "      <td>0.013234</td>\n",
              "      <td>7</td>\n",
              "    </tr>\n",
              "  </tbody>\n",
              "</table>\n",
              "</div>"
            ],
            "text/plain": [
              "  param_max_depth param_criterion  ... std_test_score  rank_test_score\n",
              "0               1            gini  ...       0.013234                7\n",
              "1               1            gini  ...       0.013234                7\n",
              "2               1            gini  ...       0.013234                7\n",
              "3               1            gini  ...       0.013234                7\n",
              "4               1            gini  ...       0.013234                7\n",
              "\n",
              "[5 rows x 6 columns]"
            ]
          },
          "metadata": {
            "tags": []
          },
          "execution_count": 48
        }
      ]
    },
    {
      "cell_type": "code",
      "metadata": {
        "id": "gc2Yf1qCWVux",
        "colab_type": "code",
        "colab": {
          "base_uri": "https://localhost:8080/",
          "height": 111
        },
        "outputId": "88b7758f-ab7c-4c5c-e5f8-298f9e1e9912"
      },
      "source": [
        "# ¿Entonces cuál es el mejor modelo?\n",
        "\n",
        "df2 = df.loc[df.rank_test_score == 1]\n",
        "df2[['param_max_depth', 'param_criterion','param_min_samples_leaf', 'mean_test_score', 'std_test_score', 'rank_test_score']]"
      ],
      "execution_count": null,
      "outputs": [
        {
          "output_type": "execute_result",
          "data": {
            "text/html": [
              "<div>\n",
              "<style scoped>\n",
              "    .dataframe tbody tr th:only-of-type {\n",
              "        vertical-align: middle;\n",
              "    }\n",
              "\n",
              "    .dataframe tbody tr th {\n",
              "        vertical-align: top;\n",
              "    }\n",
              "\n",
              "    .dataframe thead th {\n",
              "        text-align: right;\n",
              "    }\n",
              "</style>\n",
              "<table border=\"1\" class=\"dataframe\">\n",
              "  <thead>\n",
              "    <tr style=\"text-align: right;\">\n",
              "      <th></th>\n",
              "      <th>param_max_depth</th>\n",
              "      <th>param_criterion</th>\n",
              "      <th>param_min_samples_leaf</th>\n",
              "      <th>mean_test_score</th>\n",
              "      <th>std_test_score</th>\n",
              "      <th>rank_test_score</th>\n",
              "    </tr>\n",
              "  </thead>\n",
              "  <tbody>\n",
              "    <tr>\n",
              "      <th>18</th>\n",
              "      <td>2</td>\n",
              "      <td>gini</td>\n",
              "      <td>9</td>\n",
              "      <td>0.875944</td>\n",
              "      <td>0.008494</td>\n",
              "      <td>1</td>\n",
              "    </tr>\n",
              "    <tr>\n",
              "      <th>19</th>\n",
              "      <td>2</td>\n",
              "      <td>gini</td>\n",
              "      <td>10</td>\n",
              "      <td>0.875944</td>\n",
              "      <td>0.008494</td>\n",
              "      <td>1</td>\n",
              "    </tr>\n",
              "  </tbody>\n",
              "</table>\n",
              "</div>"
            ],
            "text/plain": [
              "   param_max_depth param_criterion  ... std_test_score  rank_test_score\n",
              "18               2            gini  ...       0.008494                1\n",
              "19               2            gini  ...       0.008494                1\n",
              "\n",
              "[2 rows x 6 columns]"
            ]
          },
          "metadata": {
            "tags": []
          },
          "execution_count": 49
        }
      ]
    },
    {
      "cell_type": "code",
      "metadata": {
        "id": "9qej0sIpWV1B",
        "colab_type": "code",
        "colab": {
          "base_uri": "https://localhost:8080/",
          "height": 136
        },
        "outputId": "6ed2ab1d-21ec-46f1-9a8e-dff1e3280b15"
      },
      "source": [
        "# ¿De los dos modelos rankeados como 1 cuál es efectivamente el mejor, el que tiene min_samples_leaf igual a 9 o a 10?\n",
        "# A continuación se imprime los mejores valores posibles de los hiperparámetros del clasificador de Descenso Gradiente.\n",
        "\n",
        "mejor_estimador = nuevo_modelo.best_estimator_\n",
        "\n",
        "nuevo_modelo.best_params_ , mejor_estimador "
      ],
      "execution_count": null,
      "outputs": [
        {
          "output_type": "execute_result",
          "data": {
            "text/plain": [
              "({'criterion': 'gini', 'max_depth': 2, 'min_samples_leaf': 9},\n",
              " DecisionTreeClassifier(ccp_alpha=0.0, class_weight=None, criterion='gini',\n",
              "                        max_depth=2, max_features=None, max_leaf_nodes=None,\n",
              "                        min_impurity_decrease=0.0, min_impurity_split=None,\n",
              "                        min_samples_leaf=9, min_samples_split=2,\n",
              "                        min_weight_fraction_leaf=0.0, presort='deprecated',\n",
              "                        random_state=0, splitter='best'))"
            ]
          },
          "metadata": {
            "tags": []
          },
          "execution_count": 50
        }
      ]
    },
    {
      "cell_type": "markdown",
      "metadata": {
        "id": "lO2D2ZKqW3J5",
        "colab_type": "text"
      },
      "source": [
        "Ahora que ya conozco el valor de los hiperparámetros que generan, en conjunto, el mejor árbol de decisión posible para estos datos, procedo a construir un árbol utilizando esos valores para los hiperparámetros. \n"
      ]
    },
    {
      "cell_type": "code",
      "metadata": {
        "id": "_2929pwaWVlX",
        "colab_type": "code",
        "colab": {
          "base_uri": "https://localhost:8080/",
          "height": 136
        },
        "outputId": "41a205eb-8646-4b16-ea07-fcb723a2bcb2"
      },
      "source": [
        "# Construyo el árbol mejorado\n",
        "\n",
        "from sklearn.tree import DecisionTreeClassifier\n",
        "\n",
        "\n",
        "clft = DecisionTreeClassifier(criterion='gini', max_depth=2, min_samples_leaf=9, random_state=0)\n",
        "\n",
        "# ENTRENAMIENTO\n",
        "\n",
        "clft.fit(X_train, y_train)\n",
        "\n",
        "# PREDICCION\n",
        "\n",
        "y_train_predict = clft.predict(X_train)\n",
        "y_test_predict = clft.predict(X_test)\n",
        "\n",
        "# MÉTRICAS DE PERFOMANCE DEL MEJOR MODELO POSIBLE\n",
        "\n",
        "print(\"Best tree accuracy:\",accuracy_score(y_test, y_test_predict).round(2))\n",
        "print(\"Best tree precision\",precision_score(y_test, y_test_predict).round(2))\n",
        "print(\"Best tree recall\",recall_score(y_test, y_test_predict).round(2))\n",
        "print(\"Best tree F1\",f1_score(y_test, y_test_predict).round(2)) \n",
        "print('Best tree confusion matrix:')\n",
        "confusion_matrix(y_test, y_test_predict)"
      ],
      "execution_count": null,
      "outputs": [
        {
          "output_type": "stream",
          "text": [
            "Best tree accuracy: 0.88\n",
            "Best tree precision 0.85\n",
            "Best tree recall 0.29\n",
            "Best tree F1 0.44\n",
            "Best tree confusion matrix:\n"
          ],
          "name": "stdout"
        },
        {
          "output_type": "execute_result",
          "data": {
            "text/plain": [
              "array([[310,   3],\n",
              "       [ 41,  17]])"
            ]
          },
          "metadata": {
            "tags": []
          },
          "execution_count": 52
        }
      ]
    },
    {
      "cell_type": "code",
      "metadata": {
        "id": "iI5pbAJiYiFx",
        "colab_type": "code",
        "colab": {
          "base_uri": "https://localhost:8080/",
          "height": 367
        },
        "outputId": "72746046-3844-4dbf-d931-25284f9c9e3f"
      },
      "source": [
        "# Finalmente, como en este nuevo árbol aclaré que quiero que tenga una profundidad máxima de 3 niveles, es factible dibujarlo. Observar el dibujo del árbol\n",
        "# es muy útil para conocer los umbrales con los que decidió particionar los valores de los atributos cuantitativos.\n",
        "\n",
        "from sklearn.tree import plot_tree\n",
        "\n",
        "plot_tree(clft)"
      ],
      "execution_count": null,
      "outputs": [
        {
          "output_type": "execute_result",
          "data": {
            "text/plain": [
              "[Text(167.4, 181.2, 'X[9] <= 43.681\\ngini = 0.281\\nsamples = 1483\\nvalue = [1232, 251]'),\n",
              " Text(83.7, 108.72, 'X[5] <= 1.5\\ngini = 0.227\\nsamples = 1409\\nvalue = [1225, 184]'),\n",
              " Text(41.85, 36.23999999999998, 'gini = 0.189\\nsamples = 1313\\nvalue = [1174, 139]'),\n",
              " Text(125.55000000000001, 36.23999999999998, 'gini = 0.498\\nsamples = 96\\nvalue = [51, 45]'),\n",
              " Text(251.10000000000002, 108.72, 'X[9] <= 45.439\\ngini = 0.171\\nsamples = 74\\nvalue = [7, 67]'),\n",
              " Text(209.25, 36.23999999999998, 'gini = 0.413\\nsamples = 24\\nvalue = [7, 17]'),\n",
              " Text(292.95, 36.23999999999998, 'gini = 0.0\\nsamples = 50\\nvalue = [0, 50]')]"
            ]
          },
          "metadata": {
            "tags": []
          },
          "execution_count": 53
        },
        {
          "output_type": "display_data",
          "data": {
            "image/png": "[encoded data removed]",
            "text/plain": [
              "<Figure size 432x288 with 1 Axes>"
            ]
          },
          "metadata": {
            "tags": [],
            "needs_background": "light"
          }
        }
      ]
    },
    {
      "cell_type": "markdown",
      "metadata": {
        "id": "PPnzG7t77zeH",
        "colab_type": "text"
      },
      "source": [
        "### Ejercicio 3.3: Inspección del Modelo"
      ]
    },
    {
      "cell_type": "code",
      "metadata": {
        "id": "lYxoJM3i7zeK",
        "colab_type": "code",
        "colab": {}
      },
      "source": [
        ""
      ],
      "execution_count": null,
      "outputs": []
    }
  ]
}